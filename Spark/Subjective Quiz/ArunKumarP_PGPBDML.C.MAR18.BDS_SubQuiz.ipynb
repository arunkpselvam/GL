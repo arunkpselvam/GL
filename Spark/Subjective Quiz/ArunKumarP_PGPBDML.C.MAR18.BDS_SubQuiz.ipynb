{
 "cells": [
  {
   "cell_type": "code",
   "execution_count": 16,
   "metadata": {
    "collapsed": true
   },
   "outputs": [],
   "source": [
    "from pyspark.sql import SparkSession"
   ]
  },
  {
   "cell_type": "code",
   "execution_count": 17,
   "metadata": {
    "collapsed": true
   },
   "outputs": [],
   "source": [
    "spark = SparkSession.builder.appName(\"Basics\").getOrCreate()"
   ]
  },
  {
   "cell_type": "code",
   "execution_count": 18,
   "metadata": {},
   "outputs": [
    {
     "name": "stdout",
     "output_type": "stream",
     "text": [
      "+-------+------+-----+-----+-------+------+----------------+----------+\n",
      "|Channel|Region|Fresh| Milk|Grocery|Frozen|Detergents_Paper|Delicassen|\n",
      "+-------+------+-----+-----+-------+------+----------------+----------+\n",
      "|      2|     3|12669| 9656|   7561|   214|            2674|      1338|\n",
      "|      2|     3| 7057| 9810|   9568|  1762|            3293|      1776|\n",
      "|      2|     3| 6353| 8808|   7684|  2405|            3516|      7844|\n",
      "|      1|     3|13265| 1196|   4221|  6404|             507|      1788|\n",
      "|      2|     3|22615| 5410|   7198|  3915|            1777|      5185|\n",
      "|      2|     3| 9413| 8259|   5126|   666|            1795|      1451|\n",
      "|      2|     3|12126| 3199|   6975|   480|            3140|       545|\n",
      "|      2|     3| 7579| 4956|   9426|  1669|            3321|      2566|\n",
      "|      1|     3| 5963| 3648|   6192|   425|            1716|       750|\n",
      "|      2|     3| 6006|11093|  18881|  1159|            7425|      2098|\n",
      "|      2|     3| 3366| 5403|  12974|  4400|            5977|      1744|\n",
      "|      2|     3|13146| 1124|   4523|  1420|             549|       497|\n",
      "|      2|     3|31714|12319|  11757|   287|            3881|      2931|\n",
      "|      2|     3|21217| 6208|  14982|  3095|            6707|       602|\n",
      "|      2|     3|24653| 9465|  12091|   294|            5058|      2168|\n",
      "|      1|     3|10253| 1114|   3821|   397|             964|       412|\n",
      "|      2|     3| 1020| 8816|  12121|   134|            4508|      1080|\n",
      "|      1|     3| 5876| 6157|   2933|   839|             370|      4478|\n",
      "|      2|     3|18601| 6327|  10099|  2205|            2767|      3181|\n",
      "|      1|     3| 7780| 2495|   9464|   669|            2518|       501|\n",
      "+-------+------+-----+-----+-------+------+----------------+----------+\n",
      "only showing top 20 rows\n",
      "\n"
     ]
    }
   ],
   "source": [
    "#Read the csv file as a dataframe. And, not as RDD. See the schema of the DF.\n",
    "df = spark.read.csv('datasets/Wholesale customers data.csv',header=True)\n",
    "df.show()"
   ]
  },
  {
   "cell_type": "code",
   "execution_count": 19,
   "metadata": {},
   "outputs": [
    {
     "name": "stdout",
     "output_type": "stream",
     "text": [
      "root\n",
      " |-- Channel: string (nullable = true)\n",
      " |-- Region: string (nullable = true)\n",
      " |-- Fresh: string (nullable = true)\n",
      " |-- Milk: string (nullable = true)\n",
      " |-- Grocery: string (nullable = true)\n",
      " |-- Frozen: string (nullable = true)\n",
      " |-- Detergents_Paper: string (nullable = true)\n",
      " |-- Delicassen: string (nullable = true)\n",
      "\n"
     ]
    }
   ],
   "source": [
    "df.printSchema()"
   ]
  },
  {
   "cell_type": "code",
   "execution_count": 20,
   "metadata": {
    "collapsed": true
   },
   "outputs": [],
   "source": [
    "df.createOrReplaceTempView(\"customersdata\")"
   ]
  },
  {
   "cell_type": "code",
   "execution_count": 21,
   "metadata": {
    "collapsed": true
   },
   "outputs": [],
   "source": [
    "sql_op = spark.sql(\"SELECT * FROM customersdata\")"
   ]
  },
  {
   "cell_type": "code",
   "execution_count": 22,
   "metadata": {},
   "outputs": [
    {
     "name": "stdout",
     "output_type": "stream",
     "text": [
      "+-------+------+-----+-----+-------+------+----------------+----------+\n",
      "|Channel|Region|Fresh| Milk|Grocery|Frozen|Detergents_Paper|Delicassen|\n",
      "+-------+------+-----+-----+-------+------+----------------+----------+\n",
      "|      2|     3|12669| 9656|   7561|   214|            2674|      1338|\n",
      "|      2|     3| 7057| 9810|   9568|  1762|            3293|      1776|\n",
      "|      2|     3| 6353| 8808|   7684|  2405|            3516|      7844|\n",
      "|      1|     3|13265| 1196|   4221|  6404|             507|      1788|\n",
      "|      2|     3|22615| 5410|   7198|  3915|            1777|      5185|\n",
      "|      2|     3| 9413| 8259|   5126|   666|            1795|      1451|\n",
      "|      2|     3|12126| 3199|   6975|   480|            3140|       545|\n",
      "|      2|     3| 7579| 4956|   9426|  1669|            3321|      2566|\n",
      "|      1|     3| 5963| 3648|   6192|   425|            1716|       750|\n",
      "|      2|     3| 6006|11093|  18881|  1159|            7425|      2098|\n",
      "|      2|     3| 3366| 5403|  12974|  4400|            5977|      1744|\n",
      "|      2|     3|13146| 1124|   4523|  1420|             549|       497|\n",
      "|      2|     3|31714|12319|  11757|   287|            3881|      2931|\n",
      "|      2|     3|21217| 6208|  14982|  3095|            6707|       602|\n",
      "|      2|     3|24653| 9465|  12091|   294|            5058|      2168|\n",
      "|      1|     3|10253| 1114|   3821|   397|             964|       412|\n",
      "|      2|     3| 1020| 8816|  12121|   134|            4508|      1080|\n",
      "|      1|     3| 5876| 6157|   2933|   839|             370|      4478|\n",
      "|      2|     3|18601| 6327|  10099|  2205|            2767|      3181|\n",
      "|      1|     3| 7780| 2495|   9464|   669|            2518|       501|\n",
      "+-------+------+-----+-----+-------+------+----------------+----------+\n",
      "only showing top 20 rows\n",
      "\n"
     ]
    }
   ],
   "source": [
    "sql_op.show()"
   ]
  },
  {
   "cell_type": "code",
   "execution_count": 23,
   "metadata": {},
   "outputs": [
    {
     "name": "stdout",
     "output_type": "stream",
     "text": [
      "+-----+\n",
      "|Fresh|\n",
      "+-----+\n",
      "|12669|\n",
      "| 7057|\n",
      "| 6353|\n",
      "|13265|\n",
      "|22615|\n",
      "| 9413|\n",
      "|12126|\n",
      "| 7579|\n",
      "| 5963|\n",
      "| 6006|\n",
      "| 3366|\n",
      "|13146|\n",
      "|31714|\n",
      "|21217|\n",
      "|24653|\n",
      "|10253|\n",
      "| 1020|\n",
      "| 5876|\n",
      "|18601|\n",
      "| 7780|\n",
      "+-----+\n",
      "only showing top 20 rows\n",
      "\n"
     ]
    }
   ],
   "source": [
    "#Use select to view a single column or a st of chosen columns.\n",
    "df.select('Fresh').show()"
   ]
  },
  {
   "cell_type": "code",
   "execution_count": 24,
   "metadata": {},
   "outputs": [
    {
     "name": "stdout",
     "output_type": "stream",
     "text": [
      "+-------+------+------+-----+-------+------+----------------+----------+\n",
      "|Channel|Region| Fresh| Milk|Grocery|Frozen|Detergents_Paper|Delicassen|\n",
      "+-------+------+------+-----+-------+------+----------------+----------+\n",
      "|      1|     3| 56159|  555|    902| 10002|             212|      2916|\n",
      "|      1|     3| 56082| 3504|   8906| 18028|            1480|      2498|\n",
      "|      1|     3| 76237| 3473|   7102| 16538|             778|       918|\n",
      "|      1|     3|112151|29627|  18148| 16745|            4948|      8550|\n",
      "|      1|     1| 56083| 4563|   2124|  6422|             730|      3321|\n",
      "|      1|     1| 53205| 4959|   7336|  3012|             967|       818|\n",
      "|      1|     3| 68951| 4411|  12609|  8692|             751|      2406|\n",
      "+-------+------+------+-----+-------+------+----------------+----------+\n",
      "\n"
     ]
    }
   ],
   "source": [
    "#Use filter to see records with fresh sales more than 50000 only.\n",
    "df.filter(df.Fresh > 50000).show()"
   ]
  },
  {
   "cell_type": "code",
   "execution_count": 25,
   "metadata": {
    "collapsed": true
   },
   "outputs": [],
   "source": [
    "from pyspark.sql.functions import count"
   ]
  },
  {
   "cell_type": "code",
   "execution_count": 26,
   "metadata": {},
   "outputs": [
    {
     "name": "stdout",
     "output_type": "stream",
     "text": [
      "+-------+------+--------+\n",
      "|Channel|Region|count(1)|\n",
      "+-------+------+--------+\n",
      "|      1|     1|      59|\n",
      "|      2|     3|     105|\n",
      "|      2|     2|      19|\n",
      "|      1|     2|      28|\n",
      "|      1|     3|     211|\n",
      "|      2|     1|      18|\n",
      "+-------+------+--------+\n",
      "\n"
     ]
    }
   ],
   "source": [
    "#Create aggregates on channels and regions variables.\n",
    "df.groupBy(\"Channel\",\"Region\").agg(count(\"*\")).show()"
   ]
  },
  {
   "cell_type": "code",
   "execution_count": 27,
   "metadata": {},
   "outputs": [
    {
     "name": "stdout",
     "output_type": "stream",
     "text": [
      "+-------+------------------+------------------+------------------+------------------+-----------------+-----------------+------------------+------------------+\n",
      "|summary|           Channel|            Region|             Fresh|              Milk|          Grocery|           Frozen|  Detergents_Paper|        Delicassen|\n",
      "+-------+------------------+------------------+------------------+------------------+-----------------+-----------------+------------------+------------------+\n",
      "|  count|               440|               440|               440|               440|              440|              440|               440|               440|\n",
      "|   mean|1.3227272727272728| 2.543181818181818|12000.297727272728| 5796.265909090909|7951.277272727273|3071.931818181818|2881.4931818181817|1524.8704545454545|\n",
      "| stddev|0.4680515694791137|0.7742724492301002|12647.328865076885|7380.3771745708445|9503.162828994346|4854.673332592367| 4767.854447904201|2820.1059373693965|\n",
      "|    min|                 1|                 1|              1020|             10044|            10099|            10002|                10|              1000|\n",
      "|    max|                 2|                 3|              9898|               997|             9965|              993|              9959|               995|\n",
      "+-------+------------------+------------------+------------------+------------------+-----------------+-----------------+------------------+------------------+\n",
      "\n"
     ]
    }
   ],
   "source": [
    "#Use describe to see summary statistics on dataframe.\n",
    "df.describe().show()"
   ]
  },
  {
   "cell_type": "code",
   "execution_count": 28,
   "metadata": {
    "collapsed": true
   },
   "outputs": [],
   "source": [
    "from pyspark.sql.types import StringType"
   ]
  },
  {
   "cell_type": "code",
   "execution_count": 29,
   "metadata": {},
   "outputs": [],
   "source": [
    "#Change datatype of Channels to Strings.\n",
    "data_schema = df.withColumn(\"Channel\", df[\"Channel\"].cast(StringType()))"
   ]
  },
  {
   "cell_type": "code",
   "execution_count": 30,
   "metadata": {},
   "outputs": [
    {
     "name": "stdout",
     "output_type": "stream",
     "text": [
      "root\n",
      " |-- Channel: string (nullable = true)\n",
      " |-- Region: string (nullable = true)\n",
      " |-- Fresh: string (nullable = true)\n",
      " |-- Milk: string (nullable = true)\n",
      " |-- Grocery: string (nullable = true)\n",
      " |-- Frozen: string (nullable = true)\n",
      " |-- Detergents_Paper: string (nullable = true)\n",
      " |-- Delicassen: string (nullable = true)\n",
      "\n"
     ]
    }
   ],
   "source": [
    "data_schema.printSchema()"
   ]
  }
 ],
 "metadata": {
  "kernelspec": {
   "display_name": "PySpark",
   "language": "python",
   "name": "pyspark"
  },
  "language_info": {
   "codemirror_mode": {
    "name": "ipython",
    "version": 2
   },
   "file_extension": ".py",
   "mimetype": "text/x-python",
   "name": "python",
   "nbconvert_exporter": "python",
   "pygments_lexer": "ipython2",
   "version": "2.7.14"
  }
 },
 "nbformat": 4,
 "nbformat_minor": 2
}
