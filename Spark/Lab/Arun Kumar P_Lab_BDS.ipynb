{
 "cells": [
  {
   "cell_type": "code",
   "execution_count": 1,
   "metadata": {
    "collapsed": true
   },
   "outputs": [],
   "source": [
    "from pyspark import SparkContext,SQLContext,SparkConf,StorageLevel\n",
    "from collections import Counter"
   ]
  },
  {
   "cell_type": "code",
   "execution_count": 2,
   "metadata": {
    "collapsed": true
   },
   "outputs": [],
   "source": [
    "sparkconf= SparkConf().setAppName(\"NASA\").setMaster(\"local[3]\")\n",
    "sc= SparkContext(conf=sparkconf)"
   ]
  },
  {
   "cell_type": "code",
   "execution_count": 3,
   "metadata": {
    "collapsed": true
   },
   "outputs": [],
   "source": [
    "#NOTE - HAVE ONLY PROCESSED A SAMPLE OF TOTAL DATA SINCE THE \".COLLECT()\" METHOD THROWS MEMOREY EXCEPTION\n",
    "access = sc.textFile( \"/user/arun.kpselvam_gmail/gldata/access2\",6,use_unicode=False)"
   ]
  },
  {
   "cell_type": "code",
   "execution_count": 4,
   "metadata": {},
   "outputs": [
    {
     "data": {
      "text/plain": [
       "['in24.inetnebr.com - - [01/Aug/1995:00:00:01 -0400] \"GET /shuttle/missions/sts-68/news/sts-68-mcc-05.txt HTTP/1.0\" 200 1839',\n",
       " 'uplherc.upl.com - - [01/Aug/1995:00:00:07 -0400] \"GET / HTTP/1.0\" 304 0',\n",
       " 'uplherc.upl.com - - [01/Aug/1995:00:00:08 -0400] \"GET /images/ksclogo-medium.gif HTTP/1.0\" 304 0',\n",
       " 'uplherc.upl.com - - [01/Aug/1995:00:00:08 -0400] \"GET /images/MOSAIC-logosmall.gif HTTP/1.0\" 304 0',\n",
       " 'uplherc.upl.com - - [01/Aug/1995:00:00:08 -0400] \"GET /images/USA-logosmall.gif HTTP/1.0\" 304 0',\n",
       " 'ix-esc-ca2-07.ix.netcom.com - - [01/Aug/1995:00:00:09 -0400] \"GET /images/launch-logo.gif HTTP/1.0\" 200 1713',\n",
       " 'uplherc.upl.com - - [01/Aug/1995:00:00:10 -0400] \"GET /images/WORLD-logosmall.gif HTTP/1.0\" 304 0',\n",
       " 'slppp6.intermind.net - - [01/Aug/1995:00:00:10 -0400] \"GET /history/skylab/skylab.html HTTP/1.0\" 200 1687',\n",
       " 'piweba4y.prodigy.com - - [01/Aug/1995:00:00:10 -0400] \"GET /images/launchmedium.gif HTTP/1.0\" 200 11853',\n",
       " 'slppp6.intermind.net - - [01/Aug/1995:00:00:11 -0400] \"GET /history/skylab/skylab-small.gif HTTP/1.0\" 200 9202']"
      ]
     },
     "execution_count": 4,
     "metadata": {},
     "output_type": "execute_result"
    }
   ],
   "source": [
    "access.take(10)"
   ]
  },
  {
   "cell_type": "code",
   "execution_count": 5,
   "metadata": {
    "collapsed": true
   },
   "outputs": [],
   "source": [
    "#Custom method to add data from file to accData\n",
    "import re\n",
    "PATTERN = '^(\\S+) (\\S+) (\\S+) \\[([\\w:/]+\\s[+\\-]\\d{4})\\] \"(\\S+) (\\S+)(.*)\" (\\d{3}) (\\S+)'\n",
    "def parseLogLine(log):\n",
    "    m = re.match(PATTERN, log)\n",
    "    if m:\n",
    "        return Row(host=m.group(1), timeStamp=m.group(4),url=m.group(6), httpCode=int(m.group(8)))\n",
    "    else:\n",
    "        return []\n",
    "nasaData = access.map(lambda line:parseLogLine(line))"
   ]
  },
  {
   "cell_type": "code",
   "execution_count": 6,
   "metadata": {},
   "outputs": [
    {
     "data": {
      "text/plain": [
       "[Row(host='in24.inetnebr.com', httpCode=200, timeStamp='01/Aug/1995:00:00:01 -0400', url='/shuttle/missions/sts-68/news/sts-68-mcc-05.txt'),\n",
       " Row(host='uplherc.upl.com', httpCode=304, timeStamp='01/Aug/1995:00:00:07 -0400', url='/'),\n",
       " Row(host='uplherc.upl.com', httpCode=304, timeStamp='01/Aug/1995:00:00:08 -0400', url='/images/ksclogo-medium.gif'),\n",
       " Row(host='uplherc.upl.com', httpCode=304, timeStamp='01/Aug/1995:00:00:08 -0400', url='/images/MOSAIC-logosmall.gif'),\n",
       " Row(host='uplherc.upl.com', httpCode=304, timeStamp='01/Aug/1995:00:00:08 -0400', url='/images/USA-logosmall.gif'),\n",
       " Row(host='ix-esc-ca2-07.ix.netcom.com', httpCode=200, timeStamp='01/Aug/1995:00:00:09 -0400', url='/images/launch-logo.gif'),\n",
       " Row(host='uplherc.upl.com', httpCode=304, timeStamp='01/Aug/1995:00:00:10 -0400', url='/images/WORLD-logosmall.gif'),\n",
       " Row(host='slppp6.intermind.net', httpCode=200, timeStamp='01/Aug/1995:00:00:10 -0400', url='/history/skylab/skylab.html'),\n",
       " Row(host='piweba4y.prodigy.com', httpCode=200, timeStamp='01/Aug/1995:00:00:10 -0400', url='/images/launchmedium.gif'),\n",
       " Row(host='slppp6.intermind.net', httpCode=200, timeStamp='01/Aug/1995:00:00:11 -0400', url='/history/skylab/skylab-small.gif')]"
      ]
     },
     "execution_count": 6,
     "metadata": {},
     "output_type": "execute_result"
    }
   ],
   "source": [
    "nasaData.take(10)"
   ]
  },
  {
   "cell_type": "code",
   "execution_count": 7,
   "metadata": {
    "collapsed": true
   },
   "outputs": [],
   "source": [
    "nasaList = nasaData.collect()"
   ]
  },
  {
   "cell_type": "code",
   "execution_count": 8,
   "metadata": {
    "collapsed": true
   },
   "outputs": [],
   "source": [
    "urlList=[]\n",
    "hostList=[]\n",
    "timeList=[]\n",
    "httpList=[]\n",
    "for i in nasaList:\n",
    "    urlList.append(i.url)\n",
    "    hostList.append(i.host)\n",
    "    timeList.append(i.timeStamp[0:14])\n",
    "    httpList.append(i.httpCode)"
   ]
  },
  {
   "cell_type": "code",
   "execution_count": 9,
   "metadata": {},
   "outputs": [
    {
     "data": {
      "text/plain": [
       "[('/images/KSC-logosmall.gif', 236),\n",
       " ('/images/NASA-logosmall.gif', 227),\n",
       " ('/images/MOSAIC-logosmall.gif', 174),\n",
       " ('/images/WORLD-logosmall.gif', 172),\n",
       " ('/images/USA-logosmall.gif', 171),\n",
       " ('/images/ksclogo-medium.gif', 152),\n",
       " ('/', 114),\n",
       " ('/history/apollo/images/apollo-logo1.gif', 109),\n",
       " ('/images/launch-logo.gif', 105),\n",
       " ('/images/ksclogosmall.gif', 95)]"
      ]
     },
     "execution_count": 9,
     "metadata": {},
     "output_type": "execute_result"
    }
   ],
   "source": [
    "# Find out top 10 requested URLs along with count of number of times they have been requested\n",
    "urlCount=Counter(urlList)\n",
    "urlCount.most_common(10)"
   ]
  },
  {
   "cell_type": "code",
   "execution_count": 10,
   "metadata": {},
   "outputs": [
    {
     "data": {
      "text/plain": [
       "[('ix-min1-02.ix.netcom.com', 78),\n",
       " ('uplherc.upl.com', 71),\n",
       " ('piweba3y.prodigy.com', 69),\n",
       " ('port26.ts1.msstate.edu', 59),\n",
       " ('ottodix.miks3.iao.fhg.de', 57)]"
      ]
     },
     "execution_count": 10,
     "metadata": {},
     "output_type": "execute_result"
    }
   ],
   "source": [
    "# Find out top 5 hosts / IP making the request along with count\n",
    "hostCount=Counter(hostList)\n",
    "hostCount.most_common(5)"
   ]
  },
  {
   "cell_type": "code",
   "execution_count": 11,
   "metadata": {},
   "outputs": [
    {
     "data": {
      "text/plain": [
       "[('01/Aug/1995:00', 1642),\n",
       " ('01/Aug/1995:01', 1385),\n",
       " ('01/Aug/1995:02', 993),\n",
       " ('01/Aug/1995:03', 980)]"
      ]
     },
     "execution_count": 11,
     "metadata": {},
     "output_type": "execute_result"
    }
   ],
   "source": [
    "# Find out top 5 time frame for high traffic (Based on hour from format template)\n",
    "timeCount=Counter(timeList)\n",
    "timeCount.most_common(5)"
   ]
  },
  {
   "cell_type": "code",
   "execution_count": 12,
   "metadata": {},
   "outputs": [
    {
     "data": {
      "text/plain": [
       "[('01/Aug/1995:03', 980),\n",
       " ('01/Aug/1995:02', 993),\n",
       " ('01/Aug/1995:01', 1385),\n",
       " ('01/Aug/1995:00', 1642)]"
      ]
     },
     "execution_count": 12,
     "metadata": {},
     "output_type": "execute_result"
    }
   ],
   "source": [
    "# find out 5 time frames of least traffic (Based on hour from format template)\n",
    "timeCount=Counter(timeList)\n",
    "list(reversed(timeCount.most_common()))[:5]"
   ]
  },
  {
   "cell_type": "code",
   "execution_count": 13,
   "metadata": {},
   "outputs": [
    {
     "data": {
      "text/plain": [
       "[(200, 4464), (304, 362), (404, 103), (302, 70), (403, 1)]"
      ]
     },
     "execution_count": 13,
     "metadata": {},
     "output_type": "execute_result"
    }
   ],
   "source": [
    "#Find out unique HTTP codes returned by the server along with count\n",
    "httpCount=Counter(httpList)\n",
    "httpCount.most_common()"
   ]
  },
  {
   "cell_type": "code",
   "execution_count": null,
   "metadata": {
    "collapsed": true
   },
   "outputs": [],
   "source": []
  }
 ],
 "metadata": {
  "kernelspec": {
   "display_name": "PySpark",
   "language": "python",
   "name": "pyspark"
  },
  "language_info": {
   "codemirror_mode": {
    "name": "ipython",
    "version": 2
   },
   "file_extension": ".py",
   "mimetype": "text/x-python",
   "name": "python",
   "nbconvert_exporter": "python",
   "pygments_lexer": "ipython2",
   "version": "2.7.14"
  }
 },
 "nbformat": 4,
 "nbformat_minor": 2
}
